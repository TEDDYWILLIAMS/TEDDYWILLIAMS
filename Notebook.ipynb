{
  "nbformat": 4,
  "nbformat_minor": 0,
  "metadata": {
    "colab": {
      "name": "Notebook.ipynb",
      "provenance": [],
      "authorship_tag": "ABX9TyNh3TxaPLoCQ2cSfhiQxGsX",
      "include_colab_link": true
    },
    "kernelspec": {
      "name": "python3",
      "display_name": "Python 3"
    },
    "language_info": {
      "name": "python"
    }
  },
  "cells": [
    {
      "cell_type": "markdown",
      "metadata": {
        "id": "view-in-github",
        "colab_type": "text"
      },
      "source": [
        "<a href=\"https://colab.research.google.com/github/TEDDYWILLIAMS/TEDDYWILLIAMS/blob/main/Notebook.ipynb\" target=\"_parent\"><img src=\"https://colab.research.google.com/assets/colab-badge.svg\" alt=\"Open In Colab\"/></a>"
      ]
    },
    {
      "cell_type": "code",
      "execution_count": 6,
      "metadata": {
        "colab": {
          "base_uri": "https://localhost:8080/"
        },
        "id": "OESaZSdWNcjH",
        "outputId": "5d871094-ef4c-4641-be56-01b034de071e"
      },
      "outputs": [
        {
          "output_type": "stream",
          "name": "stdout",
          "text": [
            "Mon Jul 25 12:19:44 2022\n"
          ]
        }
      ],
      "source": [
        "import time\n",
        "print(time.ctime())\n"
      ]
    },
    {
      "cell_type": "markdown",
      "source": [
        ""
      ],
      "metadata": {
        "id": "fi4em_VXOjRH"
      }
    },
    {
      "cell_type": "code",
      "source": [
        "\n",
        "a=42\n",
        "b=3\n",
        "print(a+b)\n",
        "print(type(a))"
      ],
      "metadata": {
        "colab": {
          "base_uri": "https://localhost:8080/"
        },
        "id": "fwl0Eph7Oko0",
        "outputId": "f2072990-eb71-43db-b8c4-b258c1a2754d"
      },
      "execution_count": 8,
      "outputs": [
        {
          "output_type": "stream",
          "name": "stdout",
          "text": [
            "45\n",
            "<class 'int'>\n"
          ]
        }
      ]
    },
    {
      "cell_type": "code",
      "source": [
        "laps=45\n",
        "fuel_per_lap=2.25\n",
        "x=fuel_per_lap*laps\n",
        "x=2.25*45\n",
        "print(x)\n"
      ],
      "metadata": {
        "colab": {
          "base_uri": "https://localhost:8080/"
        },
        "id": "kDNN0WZeVKZk",
        "outputId": "92350a08-83ac-40ac-aa30-7b27a8d4f31e"
      },
      "execution_count": 12,
      "outputs": [
        {
          "output_type": "stream",
          "name": "stdout",
          "text": [
            "101.25\n"
          ]
        }
      ]
    },
    {
      "cell_type": "code",
      "source": [
        "import sys\n",
        "PIN=\"3448\"\n",
        "LIMIT=4\n",
        "for tries in range(1,LIMIT):\n",
        "  supplied_pin=input(\"Enter your PIN:\")\n",
        "  if supplied_pin== PIN:\n",
        "   print (\"congos,correct pin\")\n",
        "   print (\"--- and after only\",tries,\"attempts\")\n",
        "  break\n",
        "else:\n",
        "       print(\"you had\", tries, \"tries and failed\")\n",
        "  \n",
        "\n",
        "  \n",
        "\n",
        "\n"
      ],
      "metadata": {
        "colab": {
          "base_uri": "https://localhost:8080/"
        },
        "id": "fCelmuVenvqr",
        "outputId": "ff50d524-0dbf-49ae-c74f-db081c4dea4e"
      },
      "execution_count": 18,
      "outputs": [
        {
          "output_type": "stream",
          "name": "stdout",
          "text": [
            "Enter your PIN:3448\n",
            "congos,correct pin\n",
            "--- and after only 1 attempts\n"
          ]
        }
      ]
    },
    {
      "cell_type": "markdown",
      "source": [
        ""
      ],
      "metadata": {
        "id": "MB0so31POj7O"
      }
    },
    {
      "cell_type": "markdown",
      "source": [
        "Notebook.ipynb\n",
        "import time\n",
        "print(time.ctime())"
      ],
      "metadata": {
        "id": "zm5z-ajmR2KJ"
      }
    },
    {
      "cell_type": "markdown",
      "source": [
        ""
      ],
      "metadata": {
        "id": "4FTUkEtxQkZT"
      }
    },
    {
      "cell_type": "markdown",
      "source": [
        ""
      ],
      "metadata": {
        "id": "yEPpuxeRQVMz"
      }
    },
    {
      "cell_type": "markdown",
      "source": [
        ""
      ],
      "metadata": {
        "id": "Y8v4KBneOlJS"
      }
    }
  ]
}