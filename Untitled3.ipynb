{
  "nbformat": 4,
  "nbformat_minor": 0,
  "metadata": {
    "colab": {
      "name": "Untitled3.ipynb",
      "provenance": [],
      "authorship_tag": "ABX9TyOVlK302sbFxPnaO0aKB49F",
      "include_colab_link": true
    },
    "kernelspec": {
      "name": "python3",
      "display_name": "Python 3"
    },
    "language_info": {
      "name": "python"
    }
  },
  "cells": [
    {
      "cell_type": "markdown",
      "metadata": {
        "id": "view-in-github",
        "colab_type": "text"
      },
      "source": [
        "<a href=\"https://colab.research.google.com/github/TEDDYWILLIAMS/TEDDYWILLIAMS/blob/main/Untitled3.ipynb\" target=\"_parent\"><img src=\"https://colab.research.google.com/assets/colab-badge.svg\" alt=\"Open In Colab\"/></a>"
      ]
    },
    {
      "cell_type": "code",
      "execution_count": null,
      "metadata": {
        "id": "-qi3acwP_OnA"
      },
      "outputs": [],
      "source": []
    },
    {
      "cell_type": "code",
      "source": [],
      "metadata": {
        "id": "_q1jhHv2_QIC"
      },
      "execution_count": null,
      "outputs": []
    },
    {
      "cell_type": "code",
      "source": [
        "import numpy as np\n",
        "import pandas as pd\n",
        "url = 'https://raw.githubusercontent.com/justmarkham/DAT8/master/data/chipotle.tsv'\n",
        "    \n",
        "chipo = pd.read_csv(url, sep = '\\t') # \\t -> tab , \\n -> new line\n",
        "chipo.head(6)\n",
        "print(chipo.head(6))\n",
        "# Solution 1\n",
        "print(chipo.shape)\n",
        "print(chipo.shape[0])  # entries <= 4622 observations\n"
      ],
      "metadata": {
        "colab": {
          "base_uri": "https://localhost:8080/"
        },
        "id": "yiGQumJF_bQV",
        "outputId": "f7e3d0ad-5b7b-439f-f2ac-76a8bde1adf0"
      },
      "execution_count": 1,
      "outputs": [
        {
          "output_type": "stream",
          "name": "stdout",
          "text": [
            "   order_id  quantity                              item_name  \\\n",
            "0         1         1           Chips and Fresh Tomato Salsa   \n",
            "1         1         1                                   Izze   \n",
            "2         1         1                       Nantucket Nectar   \n",
            "3         1         1  Chips and Tomatillo-Green Chili Salsa   \n",
            "4         2         2                           Chicken Bowl   \n",
            "5         3         1                           Chicken Bowl   \n",
            "\n",
            "                                  choice_description item_price  \n",
            "0                                                NaN     $2.39   \n",
            "1                                       [Clementine]     $3.39   \n",
            "2                                            [Apple]     $3.39   \n",
            "3                                                NaN     $2.39   \n",
            "4  [Tomatillo-Red Chili Salsa (Hot), [Black Beans...    $16.98   \n",
            "5  [Fresh Tomato Salsa (Mild), [Rice, Cheese, Sou...    $10.98   \n",
            "(4622, 5)\n",
            "4622\n"
          ]
        }
      ]
    },
    {
      "cell_type": "code",
      "source": [
        "# NULL VALUES!\n",
        "chipo.info() # entries <= 4622 observations\n",
        "# print(chipo.info())\n",
        "chipo.shape[1]\n",
        "print(chipo.shape[1])\n",
        "chipo.columns\n",
        "# print(chipo.columns)\n",
        "chipo.index\n",
        "print(chipo.index)\n",
        "# PANDAS-> SQL operations can be done via PANDAS itself!\n",
        "c = chipo.groupby('item_name')\n",
        "c = c.sum()\n",
        "c = c.sort_values(['quantity'], ascending=False)\n",
        "print(c.head(5))\n",
        "# AGGREGATIONS!\n",
        "c = chipo.groupby('item_name')\n",
        "c = c.sum()\n",
        "c = c.sort_values(['quantity'], ascending=False)\n",
        "print(c.head(1))\n",
        "c = chipo.groupby('choice_description').sum()\n",
        "c = c.sort_values(['quantity'], ascending=False)\n",
        "print(c.head(1))\n",
        "# Diet Coke 159\n",
        "total_items_orders = chipo['quantity'].sum()\n",
        "total_items_orders\n",
        "print(total_items_orders)\n",
        "# ### Step 13. Turn the item price into a float\n",
        "chipo.item_price.dtype\n",
        "chipo.item_price.dtype\n",
        "print(chipo.item_price.dtype)\n",
        "# square \n",
        "# lambda input : what_to_do_with_input\n",
        "square = lambda side : side * side\n",
        "square(4)\n",
        "print(square)\n",
        "\n",
        "\n",
        "\n"
      ],
      "metadata": {
        "id": "lq_QBFpGGa7Y"
      },
      "execution_count": null,
      "outputs": []
    }
  ]
}